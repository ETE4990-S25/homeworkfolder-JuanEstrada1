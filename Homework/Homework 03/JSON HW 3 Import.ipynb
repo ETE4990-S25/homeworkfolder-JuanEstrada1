{
 "cells": [
  {
   "cell_type": "code",
   "execution_count": null,
   "metadata": {},
   "outputs": [
    {
     "name": "stdout",
     "output_type": "stream",
     "text": [
      "Person JSON Content:\n",
      "{\n",
      "    \"name\": \"Jane Smith\",\n",
      "    \"age\": 25,\n",
      "    \"email\": \"jane.smith@example.com\"\n",
      "}\n",
      "JSON Content:\n",
      "{\n",
      "    \"name\": \"Bill Johnson\",\n",
      "    \"age\": 12,\n",
      "    \"email\": \"bill@cool.com\",\n",
      "    \"student_id\": \"1234\"\n",
      "}\n",
      "Data successfully saved to student_output.json\n",
      "JSON Content:\n",
      "{\n",
      "    \"name\": \"Mary Williams\",\n",
      "    \"age\": 15,\n",
      "    \"email\": \"mary.w@example.com\",\n",
      "    \"student_id\": \"5678\"\n",
      "}\n",
      "Data successfully saved to student2_output.json\n"
     ]
    }
   ],
   "source": [
    "#Used ChatGPT for help\n",
    "# Cell 1: Imports\n",
    "from data_classes import Person, Student\n",
    "import json  # Added json import here\n",
    "\n",
    "# Cell 2: Create Person instance and display\n",
    "person = Person(\n",
    "    name=\"Jane Smith\",\n",
    "    age=25,\n",
    "    email=\"jane.smith@example.com\"\n",
    ")\n",
    "\n",
    "# Convert Person to JSON and display (manual method since Person doesn't have display_json)\n",
    "print(\"Person JSON Content:\")\n",
    "print(json.dumps(person.to_dict(), indent=4))\n",
    "\n",
    "# Cell 3: Create Student instance\n",
    "student = Student(\n",
    "    name=\"Bill Johnson\",\n",
    "    age=12,\n",
    "    email=\"bill@cool.com\",\n",
    "    student_id=\"1234\"\n",
    ")\n",
    "\n",
    "# Cell 4: Display Student JSON content\n",
    "student.display_json()\n",
    "\n",
    "# Cell 5: Save Student data to JSON file\n",
    "student.save_to_json(\"student_output.json\")\n",
    "\n",
    "# Cell 6: Create another Student instance and save it\n",
    "student2 = Student(\n",
    "    name=\"Mary Williams\",\n",
    "    age=15,\n",
    "    email=\"mary.w@example.com\",\n",
    "    student_id=\"5678\"\n",
    ")\n",
    "student2.display_json()\n",
    "student2.save_to_json(\"student2_output.json\")"
   ]
  },
  {
   "cell_type": "code",
   "execution_count": null,
   "metadata": {},
   "outputs": [],
   "source": []
  }
 ],
 "metadata": {
  "kernelspec": {
   "display_name": "base",
   "language": "python",
   "name": "python3"
  },
  "language_info": {
   "codemirror_mode": {
    "name": "ipython",
    "version": 3
   },
   "file_extension": ".py",
   "mimetype": "text/x-python",
   "name": "python",
   "nbconvert_exporter": "python",
   "pygments_lexer": "ipython3",
   "version": "3.12.7"
  }
 },
 "nbformat": 4,
 "nbformat_minor": 2
}
