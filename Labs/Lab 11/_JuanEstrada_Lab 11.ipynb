{
 "cells": [
  {
   "cell_type": "markdown",
   "id": "2f26ddd3",
   "metadata": {},
   "source": [
    "\n",
    "# Lab 11: Understanding the data. \n",
    "\n",
    "Last 2 classes we have been working on understanding data. In this lab you will apply that.\n",
    "\n",
    "\n",
    "**Context**\n",
    "The goal of this lab is to understand a large dataset of 27901 rows and 18 columns Perform Exploratory Data Analysis (EDA) on the data. Look at how the data effects the end result **depression** (yes/no)\n",
    "## Part 1\n",
    "- Load and get a basic understanding of the dataset\n",
    "- Clean up the data \n",
    "    - examples:\n",
    "        - check and fix any missing data \n",
    "        - use both Hot and integer encoding\n",
    "        - convert any numeric data from strings to ints\n",
    "- Perform Exploratory Data Analysis (EDA) \n",
    "    - I will leave it to you to understand and explore this. \n",
    "        - Histplot\n",
    "        - Countplot\n",
    "        - Correlation\n",
    "        - Heatmaps\n",
    "        - boxplots\n",
    "        - have fun\n",
    "\n",
    "Make sure to communicate to me along the way. I want your to tell me what your assumptions are what your learning about the data and what you learned with EDA.  There are 18 data points for each student I expect an perform EDA on most of those points like what we did in class with MPG. \n",
    "\n",
    "##### ***Remember*** how we did a `sns.pairplot(df[[ \"cylinders\", \"mpg\",\"model_year\"]])` and `sns.pairplot(df[[\"mpg\", \"horsepower\", \"weight\", \"displacement\"]])` \n",
    "\n",
    "\n",
    "## Part 2: \n",
    "Model the data using what we learned in `Linear_Regression_Part2.ipynb` predict if a student will or will not have `Depression` \n",
    "\n",
    "- Perform linear Regression on the model using `DecisionTreeRegressor`\n",
    "- Have at least 5 different models and how dropping a column effects the data predictor \n",
    "- Once you find a model with a good prediction play with the size of your test and training data to understand how it affects your model\n",
    "    - compare the `R²` score  and the `MAE` to show improvement or degradation of the model.\n",
    "\n",
    "**Remember to have fun with this**\n",
    "\n",
    "----------------------------------------------------------------------------------------------------------------------------------------------"
   ]
  },
  {
   "cell_type": "markdown",
   "id": "85b9634d",
   "metadata": {},
   "source": [
    "From: https://www.kaggle.com/datasets/adilshamim8/student-depression-dataset/data\n",
    "\n",
    "\n",
    "Field Descriptions\n",
    "\n",
    "**id** - A unique identifier assigned to each student record in the dataset.\n",
    "\n",
    "**Gender** - The gender of the student (e.g., Male, Female, Other). This helps in analyzing gender-specific trends in mental health.\n",
    "\n",
    "**Age** - The age of the student in years.\n",
    "\n",
    "**City** - The city or region where the student resides, providing geographical context for the analysis.\n",
    "\n",
    "**Profession** - The field of work or study of the student, which may offer insights into occupational or academic stress factors.\n",
    "\n",
    "**Academic Pressure** - A measure indicating the level of pressure the student faces in academic settings. This could include stress from exams, assignments, and overall academic expectations.\n",
    "\n",
    "**Work Pressure** - A measure of the pressure related to work or job responsibilities, relevant for students who are employed alongside their studies.\n",
    "\n",
    "**CGPA** - The cumulative grade point average of the student, reflecting overall academic performance.\n",
    "\n",
    "**Study Satisfaction** - An indicator of how satisfied the student is with their studies, which can correlate with mental well-being.\n",
    "\n",
    "**Job Satisfaction** - A measure of the student’s satisfaction with their job or work environment, if applicable.\n",
    "\n",
    "**Sleep Duration** - The average number of hours the student sleeps per day, which is an important factor in mental health.\n",
    "\n",
    "**Dietary Habits** - An assessment of the student’s eating patterns and nutritional habits, potentially impacting overall health and mood.\n",
    "\n",
    "**Degree** - The academic degree or program that the student is pursuing.\n",
    "\n",
    "**Have you ever had suicidal thoughts ?** - A binary indicator (Yes/No) that reflects whether the student has ever experienced suicidal ideation.\n",
    "\n",
    "**Work/Study Hours** - The average number of hours per day the student dedicates to work or study, which can influence stress levels.\n",
    "\n",
    "**Financial Stress** - A measure of the stress experienced due to financial concerns, which may affect mental health.\n",
    "\n",
    "**Family History of Mental Illness** - Indicates whether there is a family history of mental illness (Yes/No), which can be a significant factor in mental health predispositions.\n",
    "\n",
    "**Depression** - The target variable that indicates whether the student is experiencing depression (Yes/No)."
   ]
  },
  {
   "cell_type": "markdown",
   "id": "a924c218",
   "metadata": {},
   "source": [
    "------------------------------------------------------------------------------------------------------------------------------------------------"
   ]
  },
  {
   "cell_type": "markdown",
   "id": "c63380d2",
   "metadata": {},
   "source": [
    "*Provided for reference only*\n",
    "``` python \n",
    "import kagglehub\n",
    "import shutil\n",
    "\n",
    "# Download latest version\n",
    "path = kagglehub.dataset_download(\"adilshamim8/student-depression-dataset\")\n",
    "\n",
    "#move the dowload to the current directory\n",
    "shutil.move(path, \"./Lab_11_dataset\")\n",
    "````"
   ]
  },
  {
   "cell_type": "code",
   "execution_count": 4,
   "id": "41f578a5",
   "metadata": {},
   "outputs": [
    {
     "ename": "ModuleNotFoundError",
     "evalue": "No module named 'numpy'",
     "output_type": "error",
     "traceback": [
      "\u001b[31m---------------------------------------------------------------------------\u001b[39m",
      "\u001b[31mModuleNotFoundError\u001b[39m                       Traceback (most recent call last)",
      "\u001b[36mCell\u001b[39m\u001b[36m \u001b[39m\u001b[32mIn[4]\u001b[39m\u001b[32m, line 2\u001b[39m\n\u001b[32m      1\u001b[39m \u001b[38;5;66;03m# importing libraries\u001b[39;00m\n\u001b[32m----> \u001b[39m\u001b[32m2\u001b[39m \u001b[38;5;28;01mimport\u001b[39;00m\u001b[38;5;250m \u001b[39m\u001b[34;01mnumpy\u001b[39;00m\u001b[38;5;250m \u001b[39m\u001b[38;5;28;01mas\u001b[39;00m\u001b[38;5;250m \u001b[39m\u001b[34;01mnp\u001b[39;00m\n\u001b[32m      3\u001b[39m \u001b[38;5;28;01mimport\u001b[39;00m\u001b[38;5;250m \u001b[39m\u001b[34;01mpandas\u001b[39;00m\u001b[38;5;250m \u001b[39m\u001b[38;5;28;01mas\u001b[39;00m\u001b[38;5;250m \u001b[39m\u001b[34;01mpd\u001b[39;00m\n\u001b[32m      4\u001b[39m \u001b[38;5;28;01mimport\u001b[39;00m\u001b[38;5;250m \u001b[39m\u001b[34;01mseaborn\u001b[39;00m\u001b[38;5;250m \u001b[39m\u001b[38;5;28;01mas\u001b[39;00m\u001b[38;5;250m \u001b[39m\u001b[34;01msns\u001b[39;00m\n",
      "\u001b[31mModuleNotFoundError\u001b[39m: No module named 'numpy'"
     ]
    }
   ],
   "source": [
    "# importing libraries\n",
    "import numpy as np\n",
    "import pandas as pd\n",
    "import seaborn as sns\n",
    "import matplotlib.pyplot as plt\n",
    "# loading the dataset\n",
    "df = pd.read_csv(\"./Lab_11_dataset/student_depression_dataset.csv\")\n",
    "df.head()"
   ]
  },
  {
   "cell_type": "code",
   "execution_count": 4,
   "id": "e4dd33bc",
   "metadata": {},
   "outputs": [
    {
     "name": "stdout",
     "output_type": "stream",
     "text": [
      "<class 'pandas.core.frame.DataFrame'>\n",
      "RangeIndex: 27901 entries, 0 to 27900\n",
      "Data columns (total 18 columns):\n",
      " #   Column                                 Non-Null Count  Dtype  \n",
      "---  ------                                 --------------  -----  \n",
      " 0   id                                     27901 non-null  int64  \n",
      " 1   Gender                                 27901 non-null  object \n",
      " 2   Age                                    27901 non-null  float64\n",
      " 3   City                                   27901 non-null  object \n",
      " 4   Profession                             27901 non-null  object \n",
      " 5   Academic Pressure                      27901 non-null  float64\n",
      " 6   Work Pressure                          27901 non-null  float64\n",
      " 7   CGPA                                   27901 non-null  float64\n",
      " 8   Study Satisfaction                     27901 non-null  float64\n",
      " 9   Job Satisfaction                       27901 non-null  float64\n",
      " 10  Sleep Duration                         27901 non-null  object \n",
      " 11  Dietary Habits                         27901 non-null  object \n",
      " 12  Degree                                 27901 non-null  object \n",
      " 13  Have you ever had suicidal thoughts ?  27901 non-null  object \n",
      " 14  Work/Study Hours                       27901 non-null  float64\n",
      " 15  Financial Stress                       27901 non-null  object \n",
      " 16  Family History of Mental Illness       27901 non-null  object \n",
      " 17  Depression                             27901 non-null  int64  \n",
      "dtypes: float64(7), int64(2), object(9)\n",
      "memory usage: 3.8+ MB\n"
     ]
    }
   ],
   "source": [
    "df.info()"
   ]
  },
  {
   "cell_type": "code",
   "execution_count": null,
   "id": "b99bcc3f",
   "metadata": {},
   "outputs": [],
   "source": []
  }
 ],
 "metadata": {
  "kernelspec": {
   "display_name": "Python 3",
   "language": "python",
   "name": "python3"
  },
  "language_info": {
   "codemirror_mode": {
    "name": "ipython",
    "version": 3
   },
   "file_extension": ".py",
   "mimetype": "text/x-python",
   "name": "python",
   "nbconvert_exporter": "python",
   "pygments_lexer": "ipython3",
   "version": "3.13.2"
  }
 },
 "nbformat": 4,
 "nbformat_minor": 5
}
