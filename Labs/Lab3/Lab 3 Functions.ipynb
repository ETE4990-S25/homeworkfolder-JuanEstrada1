{
 "cells": [
  {
   "cell_type": "markdown",
   "id": "abfb9ed7-bb94-48c3-88f0-6693f26b3f7c",
   "metadata": {},
   "source": [
    "# Lab 3 - Files and Functions\n"
   ]
  },
  {
   "cell_type": "markdown",
   "id": "5dd841b5-4e31-428c-a56b-5a74f1aa8c75",
   "metadata": {},
   "source": [
    "## Warm-up \n",
    "\n",
    "Part 1:\n",
    "Write a python file that can be imported.\n",
    "\n",
    "\n"
   ]
  },
  {
   "cell_type": "code",
   "execution_count": 2,
   "id": "9916dca4-e082-47ba-957a-d285cd0abce0",
   "metadata": {},
   "outputs": [],
   "source": [
    "def print_Hello():\n",
    "    print(\"Hello there!\")"
   ]
  },
  {
   "cell_type": "markdown",
   "id": "5935273d",
   "metadata": {},
   "source": [
    "\n",
    "Part 2: \n",
    "Using the following as a starting point create a python file that will take in a a name and\n",
    "a list of names and tell you if that name is in the list."
   ]
  },
  {
   "cell_type": "code",
   "execution_count": null,
   "id": "64949662",
   "metadata": {},
   "outputs": [
    {
     "name": "stdout",
     "output_type": "stream",
     "text": [
      "The name is not in the list\n"
     ]
    }
   ],
   "source": [
    "def check_name(name, name_list):\n",
    "    name = input(\"\")\n",
    "    name_list = input(\"Enter names: \")\n",
    "    if name == name_list():\n",
    "        print(\"The name is in the list\")\n",
    "    else:\n",
    "        print(\"The name is not in the list\")\n",
    "\n",
    "#Original "
   ]
  },
  {
   "cell_type": "code",
   "execution_count": null,
   "id": "decd434d",
   "metadata": {},
   "outputs": [
    {
     "name": "stdout",
     "output_type": "stream",
     "text": [
      "Bob is in the list!\n"
     ]
    }
   ],
   "source": [
    "def check_name_in_list(name, name_list):\n",
    "    if name in name_list:\n",
    "        print(f\"{name} is in the list!\")\n",
    "    else:\n",
    "        print(f\"{name} is not in the list.\")\n",
    "\n",
    "def main():\n",
    "    name_list = [\"Alice\", \"Bob\", \"Charlie\", \"David\", \"Eve\"]\n",
    "    name = input(\"Enter a name to check: \")\n",
    "    check_name_in_list(name, name_list)\n",
    "\n",
    "if __name__ == \"__main__\":\n",
    "    main()\n",
    "\n",
    "#Used ChatGPT for help"
   ]
  },
  {
   "cell_type": "markdown",
   "id": "bc4fbb46-483b-479b-97d5-82e2dc7f4346",
   "metadata": {},
   "source": [
    "# Main Lab\n",
    "\n",
    "Take time to begin working with your partner on your project. Begin to plan out how you would like your game to feel. Remember this is a text-based game. This can be any game you would like \n",
    "\n",
    "    Please stay away from games or software like poker or 21 as these tend to be boring to code and hard to add more to later on, and obviously games that may get you reported by the university.\n",
    "\n",
    "\n",
    "## Part 1:\n",
    "\n",
    "Divide up your code and begin  writing the code.\n",
    "\n",
    "Keep in mind that when you write your code you will need to be interfacing with your partners code, loading in your player, tools/items/etc, interfacing with the world, monsters and so on. So plan accordingly.\n",
    "\n",
    "\n",
    "While we have not gotten to classes take some time to try and code some simple classes. \n",
    "Here is an example:\n",
    "```python \n",
    "\n",
    "#Good\n",
    "class Sharps(object):\n",
    "    \"\"\"Create a sharp weapon\"\"\"\n",
    "    def __init__(self, name, length, age=1, damage=0):\n",
    "        \"\"\" Initialize name, age, and length damage attributes.\"\"\"\n",
    "        self.name = name\n",
    "        self.age = age\n",
    "        self.length = length\n",
    "        self.damage = damage\n",
    "    def do_damage(self, target):\n",
    "        target = target - self.damage\n",
    "\n",
    "class dager(Sharps):\n",
    "    \"\"\" makes a dager\"\"\"\n",
    "    def __init__(self, name, length, age=1, damage=0):\n",
    "        \"\"\"sets up a dagger\"\"\"\n",
    "        super().__init__(self, name, length, age, damage))\n",
    "        self.poision = True\n",
    "```\n",
    "        \n",
    "\n"
   ]
  },
  {
   "cell_type": "code",
   "execution_count": 14,
   "id": "7b2b55cf",
   "metadata": {},
   "outputs": [
    {
     "name": "stdout",
     "output_type": "stream",
     "text": [
      "Hero healed for 15 HP. Current health: 65/100\n",
      "Hero healed for 30 HP. Current health: 95/100\n"
     ]
    }
   ],
   "source": [
    "#Used ChatGPT for help\n",
    "\n",
    "class Healing:\n",
    "    def __init__(self, name, max_health, health):\n",
    "        self.name = name\n",
    "        self.max_health = max_health\n",
    "        self.health = health\n",
    "\n",
    "    def heal_player(self, healing):\n",
    "        if self.health < self.max_health:\n",
    "            self.health = min(self.health + healing, self.max_health)\n",
    "            print(f\"{self.name} healed for {healing} HP. Current health: {self.health}/{self.max_health}\")\n",
    "        else:\n",
    "            print(f\"{self.name} is already at full health!\")\n",
    "\n",
    "player = Healing(\"Hero\", 100, 50)\n",
    "player.heal_player(15)  \n",
    "player.heal_player(25)  "
   ]
  }
 ],
 "metadata": {
  "kernelspec": {
   "display_name": "base",
   "language": "python",
   "name": "python3"
  },
  "language_info": {
   "codemirror_mode": {
    "name": "ipython",
    "version": 3
   },
   "file_extension": ".py",
   "mimetype": "text/x-python",
   "name": "python",
   "nbconvert_exporter": "python",
   "pygments_lexer": "ipython3",
   "version": "3.12.7"
  }
 },
 "nbformat": 4,
 "nbformat_minor": 5
}
