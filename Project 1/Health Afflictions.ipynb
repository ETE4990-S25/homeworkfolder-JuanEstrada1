{
 "cells": [
  {
   "cell_type": "code",
   "execution_count": null,
   "metadata": {},
   "outputs": [],
   "source": [
    "# Health_Afflictions.py\n",
    "class Items(object):\n",
    "    def __init__(self, name, max_health, health):\n",
    "        self.name = name\n",
    "        self.max_health = max_health\n",
    "        self.health = health\n",
    "\n",
    "class Healing(Items):\n",
    "    def __init__(self, name, max_health, health):\n",
    "        super().__init__(name, max_health, health)  # Corrected: No extra 'self'\n",
    "\n",
    "    def heal_player(self, healing):\n",
    "        if self.health < self.max_health:\n",
    "            self.health = min(self.health + healing, self.max_health)\n",
    "            print(f\"{self.name} healed for {healing} HP. Current health: {self.health}/{self.max_health}\")\n",
    "        else:\n",
    "            print(f\"{self.name} is already at full health!\")\n",
    "\n",
    "class Poison(Items):\n",
    "    def __init__(self, name, max_health, health):\n",
    "        super().__init__(name, max_health, health)  # Corrected: No extra 'self'\n",
    "\n",
    "    def do_damage(self, damage):  # Fixed: Removed unused parameters 'name, max_health, health'\n",
    "        self.health = max(self.health - damage, 0)  # Fixed: 'damage' instead of 'Poison'\n",
    "        print(f\"{self.name} took {damage} poison damage. Current health: {self.health}/{self.max_health}\")\n",
    "\n",
    "# Test code (optional, remove if not needed in the file)\n",
    "if __name__ == \"__main__\":\n",
    "    player = Healing(\"Hero\", 100, 50)\n",
    "    player.heal_player(15)\n",
    "    player.heal_player(25)\n"
   ]
  }
 ],
 "metadata": {
  "language_info": {
   "name": "python"
  }
 },
 "nbformat": 4,
 "nbformat_minor": 2
}
