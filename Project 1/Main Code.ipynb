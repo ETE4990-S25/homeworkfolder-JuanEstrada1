{
 "cells": [
  {
   "cell_type": "code",
   "execution_count": 11,
   "metadata": {},
   "outputs": [
    {
     "name": "stdout",
     "output_type": "stream",
     "text": [
      "Off to a land, filled with strife. All alone, but one with life. You were told to become a savior, \n",
      " and yet no one will know your full story.\n",
      "WOW, there were some simple instructions to follow. How the hell are you supposed to survive this narrative?\n",
      "Screw you, there comes Bigfoot running towards you and slaps your head clean off.\n",
      "\n",
      "=== Game Over ===\n",
      "Thanks for playing!\n"
     ]
    },
    {
     "ename": "SystemExit",
     "evalue": "0",
     "output_type": "error",
     "traceback": [
      "An exception has occurred, use %tb to see the full traceback.\n",
      "\u001b[1;31mSystemExit\u001b[0m\u001b[1;31m:\u001b[0m 0\n"
     ]
    }
   ],
   "source": [
    "import sys\n",
    "\n",
    "def game_over():\n",
    "    print(\"\\n=== Game Over ===\")\n",
    "    print(\"Thanks for playing!\")\n",
    "    sys.exit(0)\n",
    "\n",
    "\n",
    "print(\"Off to a land, filled with strife. All alone, but one with life. You were told to become a savior, \\n and yet no one will know your full story.\")\n",
    "\n",
    "start_Game = input(\"A story of One's Path of Legend! Type Start Game to start!\")\n",
    "if start_Game == \"Start Game\":\n",
    "    print(\"You have chosen a trecherous path... Mother will be so proud of you... what is your name?\")\n",
    "else:\n",
    "    print(\"WOW, there were some simple instructions to follow. How the hell are you supposed to survive this narrative?\")\n",
    "    print(\"Screw you, there comes Bigfoot running towards you and slaps your head clean off.\")\n",
    "    game_over()\n",
    "        \n",
    "\n",
    "class Creating_Character():\n",
    "    saved_Name = input(\"Character Name: \")\n",
    "    print(\"Hello \" + saved_Name + \", you sure are a brave one. Leaving the homestead and starting a journey of .\")"
   ]
  },
  {
   "cell_type": "code",
   "execution_count": null,
   "metadata": {},
   "outputs": [],
   "source": []
  }
 ],
 "metadata": {
  "kernelspec": {
   "display_name": "base",
   "language": "python",
   "name": "python3"
  },
  "language_info": {
   "codemirror_mode": {
    "name": "ipython",
    "version": 3
   },
   "file_extension": ".py",
   "mimetype": "text/x-python",
   "name": "python",
   "nbconvert_exporter": "python",
   "pygments_lexer": "ipython3",
   "version": "3.12.7"
  }
 },
 "nbformat": 4,
 "nbformat_minor": 2
}
